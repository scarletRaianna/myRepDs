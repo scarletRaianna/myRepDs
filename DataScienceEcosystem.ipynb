{
 "cells": [
  {
   "cell_type": "markdown",
   "id": "6f532783",
   "metadata": {},
   "source": [
    "# <h1> Data Science Tools and Ecosystem <h1>\n"
   ]
  },
  {
   "cell_type": "markdown",
   "id": "197fdc59",
   "metadata": {},
   "source": [
    "# In this notebook, Data Science Tools and Ecosystem are summarized."
   ]
  },
  {
   "cell_type": "markdown",
   "id": "9c1f94a4",
   "metadata": {},
   "source": [
    "# __Objectives:__  \n",
    " **Objectives:**\n",
    " <l>\n",
    "<li>Python</li>\n",
    "<li>Jupyter</li>\n",
    "<li>Markdown in jupyter</li>\n",
    "<li>tool for data science in python such as numpy and pandas</li>\n",
    "</l>"
   ]
  },
  {
   "cell_type": "markdown",
   "id": "afcaa523",
   "metadata": {},
   "source": [
    "# Some of the popular languages that Data Scientists use are:\n",
    "<ol>\n",
    "<li>Python</li>\n",
    "<li>R</li>\n",
    "<li>SQL</li>\n",
    "</ol>"
   ]
  },
  {
   "cell_type": "markdown",
   "id": "646e351d",
   "metadata": {},
   "source": [
    "# Some of the commonly used libraries used by Data Scientists include:\n",
    "<ol>\n",
    "<li>Pandas</li>\n",
    "<li>Numpy</li>\n",
    "<li>ggplot</li>\n",
    "</ol>\n"
   ]
  },
  {
   "cell_type": "markdown",
   "id": "7c0d9c2d",
   "metadata": {},
   "source": [
    "| Data Science Tools| \n",
    "|:---------|\n",
    "|  PostgreSQL  |  \n",
    "|  MYSQL   |  \n",
    "| Apache airflow   |  \n"
   ]
  },
  {
   "cell_type": "markdown",
   "id": "275fd9e9",
   "metadata": {},
   "source": [
    "<h3>Below are a few examples of evaluating arithmetic expressions in Python<h3>"
   ]
  },
  {
   "cell_type": "code",
   "execution_count": 3,
   "id": "65ab667f",
   "metadata": {},
   "outputs": [
    {
     "data": {
      "text/plain": [
       "17"
      ]
     },
     "execution_count": 3,
     "metadata": {},
     "output_type": "execute_result"
    }
   ],
   "source": [
    "# This a simple arithmetic expression to mutiply then add integers\n",
    "num=(3*4)+5\n",
    "num\n"
   ]
  },
  {
   "cell_type": "code",
   "execution_count": 4,
   "id": "1fe4fff7",
   "metadata": {},
   "outputs": [
    {
     "name": "stdout",
     "output_type": "stream",
     "text": [
      "Hours= 3\n"
     ]
    }
   ],
   "source": [
    "#This will convert 200 minutes to hours by diving by 60\n",
    "min=200\n",
    "h=min//60\n",
    "m=min%60\n",
    "print(\"Hours=\",h)"
   ]
  },
  {
   "cell_type": "markdown",
   "id": "24f8c244",
   "metadata": {},
   "source": [
    "# <h2> Auther <h2>\n",
    "Raianna"
   ]
  },
  {
   "cell_type": "code",
   "execution_count": null,
   "id": "bb62e4b7",
   "metadata": {},
   "outputs": [],
   "source": []
  }
 ],
 "metadata": {
  "kernelspec": {
   "display_name": "Python 3 (ipykernel)",
   "language": "python",
   "name": "python3"
  },
  "language_info": {
   "codemirror_mode": {
    "name": "ipython",
    "version": 3
   },
   "file_extension": ".py",
   "mimetype": "text/x-python",
   "name": "python",
   "nbconvert_exporter": "python",
   "pygments_lexer": "ipython3",
   "version": "3.11.5"
  }
 },
 "nbformat": 4,
 "nbformat_minor": 5
}
